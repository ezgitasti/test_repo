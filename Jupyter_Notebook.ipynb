{
  "metadata": {
    "kernelspec": {
      "name": "python",
      "display_name": "Pyolite",
      "language": "python"
    },
    "language_info": {
      "codemirror_mode": {
        "name": "python",
        "version": 3
      },
      "file_extension": ".py",
      "mimetype": "text/x-python",
      "name": "python",
      "nbconvert_exporter": "python",
      "pygments_lexer": "ipython3",
      "version": "3.8"
    }
  },
  "nbformat_minor": 4,
  "nbformat": 4,
  "cells": [
    {
      "cell_type": "markdown",
      "source": "<center>\n    <img src=\"https://cf-courses-data.s3.us.cloud-object-storage.appdomain.cloud/IBMDeveloperSkillsNetwork-DS0105EN-SkillsNetwork/labs/Module2/images/SN_web_lightmode.png\" width=\"300\" alt=\"cognitiveclass.ai logo\"  />\n</center>\n",
      "metadata": {}
    },
    {
      "cell_type": "markdown",
      "source": "#### Add your code below following the instructions given in the course\n",
      "metadata": {}
    },
    {
      "cell_type": "markdown",
      "source": "# My Jupyter Notebook on IBM Watson Studio",
      "metadata": {}
    },
    {
      "cell_type": "markdown",
      "source": "<b>Ezgi Tasti</b><br>\nData Scientist",
      "metadata": {}
    },
    {
      "cell_type": "markdown",
      "source": "<i>I am interested in data science because data is very powerful and data science allows me to discover and unreveal the hidden knowledge in the data. Apart from unrevealing this knowledge, it also helps how to make use of it and convert it into a valuable information. </i>",
      "metadata": {}
    },
    {
      "cell_type": "markdown",
      "source": "### The code in the following cell is responsible from a simple mathematical operation. There are two variables; <i>x</i> and <i>y</i>. In the first two lines, values will be assigned to these variables and then in the third line, the two variables will be summed.",
      "metadata": {}
    },
    {
      "cell_type": "code",
      "source": "x = 10\ny = 5\nx+y ",
      "metadata": {
        "trusted": true
      },
      "execution_count": 2,
      "outputs": [
        {
          "execution_count": 2,
          "output_type": "execute_result",
          "data": {
            "text/plain": "15"
          },
          "metadata": {}
        }
      ]
    },
    {
      "cell_type": "markdown",
      "source": "| Name          | Surname       | Age   |\n| ------------- |:-------------:| -----:|\n| John          | Doe           | 23    |\n| Mary          | Jane          | 33    |\n| Mark          | Newman        | 38    |\n\n[Visit Google](https://www.google.com)\n\n<b>Ordered List</b>\n1. First item\n2. Second itrm\n",
      "metadata": {}
    },
    {
      "cell_type": "code",
      "source": "",
      "metadata": {},
      "execution_count": null,
      "outputs": []
    }
  ]
}